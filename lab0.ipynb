{
 "metadata": {
  "language_info": {
   "codemirror_mode": {
    "name": "ipython",
    "version": 3
   },
   "file_extension": ".py",
   "mimetype": "text/x-python",
   "name": "python",
   "nbconvert_exporter": "python",
   "pygments_lexer": "ipython3",
   "version": "3.8.5-final"
  },
  "orig_nbformat": 2,
  "kernelspec": {
   "name": "Python 3.8.5 32-bit",
   "display_name": "Python 3.8.5 32-bit",
   "metadata": {
    "interpreter": {
     "hash": "7a542ca580817fc4dd55327026e074e2fa0cd470fc5dee9350c2d8b13822db8d"
    }
   }
  }
 },
 "nbformat": 4,
 "nbformat_minor": 2,
 "cells": [
  {
   "cell_type": "code",
   "execution_count": 9,
   "metadata": {
    "tags": []
   },
   "outputs": [
    {
     "output_type": "stream",
     "name": "stdout",
     "text": "Не представляю что ещё можно сделать в задании по синтаксису\n"
    }
   ],
   "source": [
    "#4\n",
    "if(True):\n",
    "    print(\"Не представляю что ещё можно сделать в задании по синтаксису\")"
   ]
  },
  {
   "cell_type": "code",
   "execution_count": 18,
   "metadata": {
    "tags": []
   },
   "outputs": [
    {
     "output_type": "stream",
     "name": "stdout",
     "text": "123\nВведите число: \nПо пути прогонки лабораторной вам встречается старец и произности:\"Легенды гласят что только избранный сможет ввести число больше нуля! \nИменно он будет в проработке 5-го задания работать с файлами!\"\n"
    }
   ],
   "source": [
    "#5\n",
    "a = input()\n",
    "print(a)\n",
    "\n",
    "words_of_elder = \"По пути прогонки лабораторной вам встречается старец и произности:\\\"Легенды гласят что только избранный сможет ввести число больше нуля! \\nИменно он будет в проработке 5-го задания работать с файлами!\\\"\"\n",
    "def elder_say():\n",
    "    print(words_of_elder)\n",
    "\n",
    "try:\n",
    "    print(\"Введите число: \")\n",
    "    b = int(input()) + 5\n",
    "except:\n",
    "    b = 5\n",
    "    print(\"В следующий раз вводите число, пожалуйста.\")\n",
    "\n",
    "if b == 5:\n",
    "    print(\"Вы ввели либо слово, либо 0.\")\n",
    "else:\n",
    "    elder_say()"
   ]
  },
  {
   "cell_type": "code",
   "execution_count": 7,
   "metadata": {},
   "outputs": [
    {
     "output_type": "stream",
     "name": "stdout",
     "text": [
      "Введите число: \n",
      "Вы ввели число большее либо равное 10\n"
     ]
    }
   ],
   "source": [
    "#6\n",
    "print(\"Введите число: \")\n",
    "try:\n",
    "    a = int(input())\n",
    "    \n",
    "    if a < 5 :\n",
    "        print(\"Вы ввели число меньше пяти\")\n",
    "    elif 5 <= a < 10 :\n",
    "        print(\"Вы ввели число между 5 и 10\")\n",
    "    else:\n",
    "        print(\"Вы ввели число большее либо равное 10\")\n",
    "except:\n",
    "    print(\"Вы ввели не число\")"
   ]
  },
  {
   "cell_type": "code",
   "execution_count": null,
   "metadata": {},
   "outputs": [],
   "source": []
  }
 ]
}